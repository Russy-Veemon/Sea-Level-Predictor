{
  "nbformat": 4,
  "nbformat_minor": 0,
  "metadata": {
    "colab": {
      "provenance": [],
      "authorship_tag": "ABX9TyM0U4308Hv+Pg9/kN2LjiCj",
      "include_colab_link": true
    },
    "kernelspec": {
      "name": "python3",
      "display_name": "Python 3"
    },
    "language_info": {
      "name": "python"
    }
  },
  "cells": [
    {
      "cell_type": "markdown",
      "metadata": {
        "id": "view-in-github",
        "colab_type": "text"
      },
      "source": [
        "<a href=\"https://colab.research.google.com/github/Russy-Veemon/Sea-Level-Predictor/blob/main/Sea_Level_Predictor.ipynb\" target=\"_parent\"><img src=\"https://colab.research.google.com/assets/colab-badge.svg\" alt=\"Open In Colab\"/></a>"
      ]
    },
    {
      "cell_type": "code",
      "execution_count": 1,
      "metadata": {
        "id": "YRhupiiUzUjK"
      },
      "outputs": [],
      "source": [
        "import pandas as pd\n",
        "import numpy as np\n",
        "import csv\n",
        "import matplotlib.pyplot as plt\n",
        "import seaborn as sns\n",
        "\n",
        "%matplotlib inline"
      ]
    },
    {
      "cell_type": "markdown",
      "source": [
        "**Use Pandas to import the data from epa-sea-level.csv.**"
      ],
      "metadata": {
        "id": "I28osxxf4Adp"
      }
    },
    {
      "cell_type": "code",
      "source": [
        "sea_level = pd.read_csv('epa-sea-level.csv')\n",
        "\n",
        "print(sea_level)"
      ],
      "metadata": {
        "colab": {
          "base_uri": "https://localhost:8080/"
        },
        "id": "SB_MHbsJzaX5",
        "outputId": "436b7a7b-2335-414f-8614-1330d92b4866"
      },
      "execution_count": 2,
      "outputs": [
        {
          "output_type": "stream",
          "name": "stdout",
          "text": [
            "     Year  CSIRO Adjusted Sea Level  Lower Error Bound  Upper Error Bound  \\\n",
            "0    1880                  0.000000          -0.952756           0.952756   \n",
            "1    1881                  0.220472          -0.732283           1.173228   \n",
            "2    1882                 -0.440945          -1.346457           0.464567   \n",
            "3    1883                 -0.232283          -1.129921           0.665354   \n",
            "4    1884                  0.590551          -0.283465           1.464567   \n",
            "..    ...                       ...                ...                ...   \n",
            "129  2009                  8.586614           8.311024           8.862205   \n",
            "130  2010                  8.901575           8.618110           9.185039   \n",
            "131  2011                  8.964567           8.661417           9.267717   \n",
            "132  2012                  9.326772           8.992126           9.661417   \n",
            "133  2013                  8.980315           8.622047           9.338583   \n",
            "\n",
            "     NOAA Adjusted Sea Level  \n",
            "0                        NaN  \n",
            "1                        NaN  \n",
            "2                        NaN  \n",
            "3                        NaN  \n",
            "4                        NaN  \n",
            "..                       ...  \n",
            "129                 8.046354  \n",
            "130                 8.122973  \n",
            "131                 8.053065  \n",
            "132                 8.457058  \n",
            "133                 8.546648  \n",
            "\n",
            "[134 rows x 5 columns]\n"
          ]
        }
      ]
    },
    {
      "cell_type": "markdown",
      "source": [
        "**Use matplotlib to create a scatter plot using the Year column as the x-axis and the CSIRO Adjusted Sea Level column as the y-axis.**"
      ],
      "metadata": {
        "id": "iczo9BkO4AOm"
      }
    },
    {
      "cell_type": "code",
      "source": [],
      "metadata": {
        "id": "WD1Wdx_54jXV"
      },
      "execution_count": null,
      "outputs": []
    },
    {
      "cell_type": "markdown",
      "source": [
        "**Use the linregress function from scipy.stats to get the slope and y-intercept of the line of best fit. Plot the line of best fit over the top of the scatter plot. Make the line go through the year 2050 to predict the sea level rise in 2050.**"
      ],
      "metadata": {
        "id": "6g7Aoy653_oR"
      }
    },
    {
      "cell_type": "code",
      "source": [],
      "metadata": {
        "id": "ggnpGMPF4jqc"
      },
      "execution_count": null,
      "outputs": []
    },
    {
      "cell_type": "markdown",
      "source": [
        "**Plot a new line of best fit just using the data from year 2000 through the most recent year in the dataset. Make the line also go through the year 2050 to predict the sea level rise in 2050 if the rate of rise continues as it has since the year 2000.**"
      ],
      "metadata": {
        "id": "bqP3gBx_3_g-"
      }
    },
    {
      "cell_type": "code",
      "source": [],
      "metadata": {
        "id": "dAL8V1Zk4kM7"
      },
      "execution_count": null,
      "outputs": []
    },
    {
      "cell_type": "markdown",
      "source": [
        "**The x label should be Year, the y label should be Sea Level (inches), and the title should be Rise in Sea Level.**"
      ],
      "metadata": {
        "id": "Lafuc7sp3_PG"
      }
    },
    {
      "cell_type": "code",
      "source": [],
      "metadata": {
        "id": "svxmVmrd4kfI"
      },
      "execution_count": null,
      "outputs": []
    }
  ]
}